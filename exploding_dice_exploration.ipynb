{
 "cells": [
  {
   "cell_type": "code",
   "execution_count": 3,
   "metadata": {},
   "outputs": [],
   "source": [
    "import numpy as np\n",
    "import pandas as pd\n",
    "import seaborn as sns\n",
    "import matplotlib.pyplot as plt"
   ]
  },
  {
   "cell_type": "markdown",
   "metadata": {},
   "source": [
    "# The Beginning\n",
    "\n",
    "I started this project as I became slightly obsessed with a game mechanic in an RPG that I was running called [Open Legend RPG](https://openlegendrpg.com/).\n",
    "\n",
    "In this game, every roll that you make has the ability to explode. That means that whenever ANY die rolls maximum, you get to reroll it and add the new roll to your total, ad infinitum.\n",
    "\n",
    "In example, if you rolled at 6 sided die (d6) and landed on a 6 you would roll again. Let's say you landed on another 6, you would roll again. Then you landed on a 1. Your roll is over, but in total you would have $6+6+1=13$ as your total for that 6 sided die."
   ]
  },
  {
   "cell_type": "markdown",
   "metadata": {},
   "source": [
    "# The Question\n",
    "Initially, I just assumed that a die with larger number of sides would be simply better than a die with fewer sides. After thinking about this, however, I realized that this may not be true. Let's say you use a 4 sided die and a 6 sided die. You have a $\\frac{1}{4}$ probability of exploding with the 4 sided die and $\\frac{1}{6}$ probability of exploding on a 6 sided die. Could the higher probability of explosions lead to a higher expected outcome?\n",
    "\n",
    "Well, in the case of a 1 sided die, you would roll that die forever adding up 1 repeatedly until infinity. While my intuition is that this does not generalize to dice with more faces, I felt the need to explore it a bit more."
   ]
  },
  {
   "cell_type": "markdown",
   "metadata": {},
   "source": [
    "# Expected Value\n",
    "I wanted to look at the long run behavior of various dice to see if a larger die was always better.\n",
    "\n",
    "I ended up coming up with a quick formulation for expected value as follows:\n",
    "\n",
    "Let $S_n$ be the value of rolling of an exploding $n$-sided die. Also, let $x$ be the the value of one roll individual. Using union of disjoint events, we end up with this:\n",
    "\n",
    "$E(S_n)= \\textrm{Expected value of the die given it did not explode} + \\textrm{Expected value of the die given it did explode}$\n",
    "\n",
    "$E(S_n)=Pr(x<n)\\cdot E(S_n|x<n)+ Pr(x=n)E(S_N|x=n)$\n",
    "\n",
    "The probability that you roll less than $n$ on a single roll is $1-\\frac{1}{n}$.\n",
    "\n",
    "The expected value of that die is $\\frac{1}{n-1}1+\\frac{1}{n-1}2+\\frac{1}{n-1}3+\\frac{1}{n-1}4+...+\\frac{1}{n-1}(n-1)=\\frac{1}{n-1}\\sum_{i=1}^{n-1} i=\\frac{(n-1)(n)}{2(n-1)}=\\frac{n}{2}$.\n",
    "\n",
    "\n",
    "The probability that the die explodes is $\\frac{1}{n}$.\n",
    "The expected value of the explosions is $n+E(S_n)$.\n",
    "\n",
    "Now we have the full equation for the expected value:\n",
    "\n",
    "$E(S_n)=(1-\\frac{1}{n})(\\frac{n}{2})+(\\frac{1}{n})(n+E(S_n))$\n",
    "\n",
    "After some algebra, we end up with:\n",
    "\n",
    "$E(S_n)=\\frac{n(n+1)}{2(n-1)}$\n",
    "\n",
    "As $n$ increases, we see that $E(S_n)$ also increases."
   ]
  },
  {
   "cell_type": "code",
   "execution_count": 4,
   "metadata": {},
   "outputs": [],
   "source": [
    "def expected(n):\n",
    "    return (n)*(n+1)/(2*(n-1))"
   ]
  },
  {
   "cell_type": "code",
   "execution_count": 5,
   "metadata": {},
   "outputs": [],
   "source": [
    "expected_values = [(n,expected(n)) for n in np.arange(2,20)]"
   ]
  },
  {
   "cell_type": "code",
   "execution_count": 43,
   "metadata": {},
   "outputs": [
    {
     "data": {
      "image/png": "[encoded data removed]",
      "text/plain": [
       "<Figure size 432x288 with 1 Axes>"
      ]
     },
     "metadata": {
      "needs_background": "light"
     },
     "output_type": "display_data"
    }
   ],
   "source": [
    "ax = sns.barplot(x=np.arange(2,21), y=[expected(i) for i in np.arange(2,21)], color = \"#1f77b4\")\n",
    "ax.set(xlabel=\"n\", ylabel = \"Expected Value\",title = \"Expected value of an n-sided die\");"
   ]
  },
  {
   "cell_type": "markdown",
   "metadata": {},
   "source": [
    "This looks like it is increasing to me. Let's check with larger values."
   ]
  },
  {
   "cell_type": "code",
   "execution_count": 7,
   "metadata": {},
   "outputs": [
    {
     "data": {
      "image/png": "[encoded data removed]",
      "text/plain": [
       "<Figure size 432x288 with 1 Axes>"
      ]
     },
     "metadata": {
      "needs_background": "light"
     },
     "output_type": "display_data"
    }
   ],
   "source": [
    "ax = sns.lineplot(x=np.arange(2,201), y=[expected(i) for i in np.arange(2,201)])\n",
    "ax.set(xlabel=\"n\", ylabel = \"Expected Value\",title = \"Expected value of an n-sided die\");"
   ]
  },
  {
   "cell_type": "markdown",
   "metadata": {},
   "source": [
    "## Empirical testing of expected value\n",
    "This is a Jupyter Notebook for a reason. Let's test our formula and see how correct it is. First, let's write some code for empirical testing the value of an $n$-sided die."
   ]
  },
  {
   "cell_type": "code",
   "execution_count": 8,
   "metadata": {},
   "outputs": [],
   "source": [
    "# Count is the number of dies rolled.\n",
    "# Sides is the number of sides for the die.\n",
    "# Returns a list of results on each die.\n",
    "def roll(count, sides):\n",
    "    if not (count and sides) or not (count + sides) % 1 == 0:\n",
    "        raise ValueError(\"Count and sides must be a positive integer.\")\n",
    "    roll = [np.random.randint(1, sides + 1) for _ in np.arange(count)]\n",
    "    for i in np.arange(0,count):\n",
    "        while roll[i] % sides == 0:\n",
    "            roll[i] += np.random.randint(1, sides + 1)\n",
    "    return roll"
   ]
  },
  {
   "cell_type": "code",
   "execution_count": 9,
   "metadata": {},
   "outputs": [
    {
     "data": {
      "text/plain": [
       "[4, 4, 3, 5, 5, 3, 3, 3, 4, 5, 4, 2]"
      ]
     },
     "execution_count": 9,
     "metadata": {},
     "output_type": "execute_result"
    }
   ],
   "source": [
    "roll(12,6)"
   ]
  },
  {
   "cell_type": "markdown",
   "metadata": {},
   "source": [
    "Now lets compare the average dice roll to the expected value that we calculated earlier."
   ]
  },
  {
   "cell_type": "code",
   "execution_count": 10,
   "metadata": {},
   "outputs": [
    {
     "data": {
      "text/plain": [
       "4.165"
      ]
     },
     "execution_count": 10,
     "metadata": {},
     "output_type": "execute_result"
    }
   ],
   "source": [
    "np.average(roll(10000,6))"
   ]
  },
  {
   "cell_type": "code",
   "execution_count": 11,
   "metadata": {},
   "outputs": [
    {
     "data": {
      "text/plain": [
       "4.2"
      ]
     },
     "execution_count": 11,
     "metadata": {},
     "output_type": "execute_result"
    }
   ],
   "source": [
    "expected(6)"
   ]
  },
  {
   "cell_type": "markdown",
   "metadata": {},
   "source": [
    "That seems really close to me! Looks like the more sides a die has, the higher the expected value! This is worth bootstrapping and running a test, though I am moving on for now."
   ]
  },
  {
   "cell_type": "markdown",
   "metadata": {},
   "source": [
    "# A Wrinkle in My Plan: Rolling in a game doesn't care about expected values\n",
    "\n",
    "After I was satisfied that rolling a d8 is better than a d6, I realized something in weird edge cases.\n",
    "\n",
    "The only thing that matters is whether or not your roll is larger than a specific given value. Let's check out a strange case:\n",
    "\n",
    "If you wanted to roll higher than an 8, would you rather roll a d6 or a d8?\n",
    "\n",
    "Well, the probability of beating that score with a d8 is $\\frac{1}{8}$. To beat it with a d6, you need to first explode (probability $\\frac{1}{6}$), and then roll 2 or better (probability $\\frac{5}{6}$. The probability of getting an 8 or better with a d6 is thus $\\frac{1}{6}\\cdot \\frac{5}{6}=\\frac{5}{36}$. That is higher than the probability to beat it with a d8. $\\frac{1}{8}<\\frac{5}{36}$\n",
    "\n",
    "If you want to get a score of 8 or higher, you would prefer to roll a d6 than a d8."
   ]
  },
  {
   "cell_type": "markdown",
   "metadata": {},
   "source": [
    "So let's begin exploration of this idea!\n",
    "\n",
    "Let's say you are working with a $n$-sided die. Let's look at the probability of rolling $DC$ (difficulty check) or higher.\n",
    "\n",
    "If $DC<=n$, then the probability of rolling greater than $DC$ is $\\frac{n+1-DC}{n}$. If you want to roll 1 or higher on a d6, then you will do so with probability 1. If you want to roll 4 or higher on a d6, that would be $\\frac{6+1-4}{6}=\\frac{3}{6}=\\frac{1}{2}=0.5$. Intuitively, this means you can roll 4, 5, or 6.\n",
    "\n"
   ]
  },
  {
   "cell_type": "markdown",
   "metadata": {},
   "source": [
    "What makes this complicated is the exploding part of the die. Let's start decomposing the problem. Any specific number can be rolled only 1 way. It can be decomposed in this way:\n",
    "\n",
    "$$Value = (\\textrm{# of explosions}) * (n) + (\\textrm{The final die roll})$$\n",
    "\n",
    "If you wanted to roll a value of 8 on a d6, you require 1 explosion and then must roll 2 or higher. If you want to beat a check of 37, the die has to explode 6 times, then you can roll any die. Mathmatically, you can conceptualize this with the following formula.\n",
    "\n",
    "The probability of beating a diffculty check is thus:\n",
    "\n",
    "$$Pr(S_n\\geq DC)=Pr(\\textrm{Getting e number of explosions}) * Pr(\\textrm{rolling higher than the remainder})$$\n",
    "\n",
    "If $n \\mod DC \\neq 0$\n",
    "$$Pr(S_n\\geq DC)=\\frac{1}{n}^{\\lfloor \\frac{DC}{n}\\rfloor} * \\frac{n+1-(n \\mod{DC})}{n}$$\n",
    "\n",
    "If $n \\mod DC = 0$\n",
    "$$Pr(S_n\\geq DC)=\\frac{1}{n}^{\\lfloor \\frac{DC}{n}\\rfloor} $$"
   ]
  },
  {
   "cell_type": "markdown",
   "metadata": {},
   "source": [
    "This leaves us with an unfortunate piecewise function, however, it does make sense. The probability of rolling exactly a number that is divisible by $n$ is 0. In example, there is no way to roll a 6 or a d6 with when accounting for explosions."
   ]
  },
  {
   "cell_type": "markdown",
   "metadata": {},
   "source": [
    "Now, let's try visualizing what this looks like"
   ]
  },
  {
   "cell_type": "code",
   "execution_count": 12,
   "metadata": {},
   "outputs": [],
   "source": [
    "def prob_beat_dc(dc, sides):    \n",
    "    if dc % sides == 0:\n",
    "        return (1/sides) ** np.floor(dc/sides)\n",
    "    else:\n",
    "        return (1/sides) ** np.floor(dc/sides) * (sides + 1 - (dc % sides)) / sides"
   ]
  },
  {
   "cell_type": "code",
   "execution_count": 13,
   "metadata": {},
   "outputs": [
    {
     "name": "stdout",
     "output_type": "stream",
     "text": [
      "P(Win|DC=1,Sides=6) = 1.0\n",
      "P(Win|DC=2,Sides=6) = 0.8333333333333334\n",
      "P(Win|DC=6,Sides=6) = 0.16666666666666666\n",
      "P(Win|DC=7,Sides=6) = 0.16666666666666666\n",
      "P(Win|DC=8,Sides=6) = 0.13888888888888887\n",
      "P(Win|DC=7,Sides=8) = 0.25\n",
      "P(Win|DC=8,Sides=8) = 0.125\n"
     ]
    }
   ],
   "source": [
    "for dc, sides in ((1,6), (2,6), (6,6), (7,6), (8,6), (7,8), (8,8)):\n",
    "    print(f\"P(Win|DC={dc},Sides={sides}) = {prob_beat_dc(dc,sides)}\")"
   ]
  },
  {
   "cell_type": "markdown",
   "metadata": {},
   "source": [
    "Now that we can easily calculate the probability of beating a DC given the die, let's create that plot!"
   ]
  },
  {
   "cell_type": "code",
   "execution_count": 14,
   "metadata": {},
   "outputs": [
    {
     "data": {
      "image/png": "[encoded data removed]",
      "text/plain": [
       "<Figure size 432x288 with 1 Axes>"
      ]
     },
     "metadata": {
      "needs_background": "light"
     },
     "output_type": "display_data"
    }
   ],
   "source": [
    "minimum = 1\n",
    "maximum = 20\n",
    "\n",
    "x = np.arange(minimum, maximum + 1)\n",
    "y_1 = [prob_beat_dc(dc, 6) for dc in x]\n",
    "y_2 = [prob_beat_dc(dc, 8) for dc in x]\n",
    "\n",
    "\n",
    "df = pd.DataFrame({\"dc\" : x, \"d6\" : y_1, \"d8\" : y_2})\n",
    "df = pd.melt(df, id_vars=['dc'])\n",
    "sns.barplot(data = df, x = \"dc\", y = \"value\", hue = \"variable\")\n",
    "plt.title(\"Probability to win against a DC of x\")\n",
    "plt.xlabel(\"Difficulty Check\")\n",
    "plt.ylabel(\"Probability of Beating DC\");"
   ]
  },
  {
   "cell_type": "markdown",
   "metadata": {},
   "source": [
    "Interesting! We see that the only time that a d6 is better than a d8 is on the difficulty check of 8.\n",
    "\n",
    "Looking at this, closer, we also see that 16 seems awfully close too. That is also a multiple of 8. Perhaps there is something there to investigate..."
   ]
  },
  {
   "cell_type": "code",
   "execution_count": 15,
   "metadata": {},
   "outputs": [
    {
     "name": "stdout",
     "output_type": "stream",
     "text": [
      "DC 8: 0.13888888888888887 > 0.125\n"
     ]
    }
   ],
   "source": [
    "for i in np.arange(1,100 + 1):\n",
    "    if prob_beat_dc(i, 6) > prob_beat_dc(i, 8):\n",
    "        print(f\"DC {i}: {prob_beat_dc(i, 6)} > {prob_beat_dc(i, 8)}\")"
   ]
  },
  {
   "cell_type": "code",
   "execution_count": 16,
   "metadata": {},
   "outputs": [
    {
     "name": "stdout",
     "output_type": "stream",
     "text": [
      "0.013888888888888888 0.015625\n"
     ]
    }
   ],
   "source": [
    "print(prob_beat_dc(16, 6), prob_beat_dc(16, 8))"
   ]
  },
  {
   "cell_type": "markdown",
   "metadata": {},
   "source": [
    "Looks like it is fairly close, but a d8 is still slightly better than a d6. It looks like there are very niche scenarios in which the lower die is better. Another case is when the DC is 6, a d4 is better than a d6. It is also possible a d8 is better than a d10 for dc 10.\n",
    "\n",
    "Overall, the mechanic seems to be fairly balanced. Expectation rises, but not too much. It allows for rare, surprising moments. It also is balanced so that a higher die is still better than a lower one at all reasonable points (as a difficulty check of 8, 6, or other low values is exceedingly odd)."
   ]
  },
  {
   "cell_type": "markdown",
   "metadata": {},
   "source": [
    "# Rolling Multiple Dice"
   ]
  },
  {
   "cell_type": "markdown",
   "metadata": {},
   "source": [
    "## Expectation\n",
    "The expectation of rolling multiple dice is simple to compute use the above formulas. As each die roll is independent and added together, you can simply sum their expectations."
   ]
  },
  {
   "cell_type": "code",
   "execution_count": 17,
   "metadata": {},
   "outputs": [
    {
     "name": "stdout",
     "output_type": "stream",
     "text": [
      "Expectation of D20 + D6: 15.25263157894737\n",
      "Expectation of D8 + D6: 9.342857142857143\n",
      "Expectation of D20 + D8: 16.195488721804512\n",
      "Expectation of D20 + 2D6: 19.45263157894737\n"
     ]
    }
   ],
   "source": [
    "print(\"Expectation of D20 + D6:\",expected(20) + expected(6))\n",
    "print(\"Expectation of D8 + D6:\",expected(8) + expected(6))\n",
    "print(\"Expectation of D20 + D8:\",expected(20) + expected(8))\n",
    "print(\"Expectation of D20 + 2D6:\",expected(20) + 2 * expected(6))"
   ]
  },
  {
   "cell_type": "markdown",
   "metadata": {},
   "source": [
    "## Distribution\n",
    "\n",
    "Here, it's not quite as simple as the last calculation. There are multiple dice and inconsistent probabilities, however we should make quick work of this through the power of python!"
   ]
  },
  {
   "cell_type": "markdown",
   "metadata": {},
   "source": [
    "Each value can be rolled a number of ways. If $S$ is the sum of $X_1$ and $X_2$ (the result of rolling two dice), then the probability that $S=k$ is equal to all the ways that $X_1$ and $X_2$ can sum to $k$. That is, it is the probability that $X_1 = n$ and $X_2 = k-n$."
   ]
  },
  {
   "cell_type": "code",
   "execution_count": 38,
   "metadata": {},
   "outputs": [],
   "source": [
    "def prob_exactly(k, die):\n",
    "    if k % die == 0:\n",
    "        return 0\n",
    "    else:\n",
    "        return ((1/die) ** np.floor(k/die)) * (1 / die)   \n",
    "        \n",
    "def mult_die_prob(S, dice):\n",
    "    # Recursion used to expand this out to any number of dice!\n",
    "    result = 0\n",
    "    for k in np.arange(1, S):\n",
    "        if len(dice) == 2:\n",
    "            result += prob_exactly(k, dice[0]) * prob_exactly(S - k, dice[-1])\n",
    "        else:\n",
    "            result += mult_die_prob(k, dice[:-1]) * prob_exactly(S - k, dice[-1])            \n",
    "    return result"
   ]
  },
  {
   "cell_type": "code",
   "execution_count": 39,
   "metadata": {},
   "outputs": [
    {
     "data": {
      "text/plain": [
       "0.1111111111111111"
      ]
     },
     "execution_count": 39,
     "metadata": {},
     "output_type": "execute_result"
    }
   ],
   "source": [
    "mult_die_prob(7,(6,6))"
   ]
  },
  {
   "cell_type": "code",
   "execution_count": 42,
   "metadata": {},
   "outputs": [
    {
     "data": {
      "text/plain": [
       "0.07407407407407407"
      ]
     },
     "execution_count": 42,
     "metadata": {},
     "output_type": "execute_result"
    }
   ],
   "source": [
    "mult_die_prob(7,(3,3))"
   ]
  },
  {
   "cell_type": "markdown",
   "metadata": {},
   "source": [
    "At first I though I had this wrong because I know the probability for rolling a 7 on two normal d6s is 16.67%. I then realized that it definitely had to be lower because you cannot roll a 6 and a 1 or a 1 and a 6 with exploding dice.\n",
    "\n",
    "Let's graph some distributions!"
   ]
  },
  {
   "cell_type": "code",
   "execution_count": 87,
   "metadata": {},
   "outputs": [
    {
     "name": "stderr",
     "output_type": "stream",
     "text": [
      "C:\\ProgramData\\Miniconda3\\lib\\site-packages\\seaborn\\axisgrid.py:645: UserWarning: Using the barplot function without specifying `order` is likely to produce an incorrect plot.\n",
      "  warnings.warn(warning)\n"
     ]
    },
    {
     "data": {
      "image/png": "[encoded data removed]",
      "text/plain": [
       "<Figure size 648x432 with 6 Axes>"
      ]
     },
     "metadata": {
      "needs_background": "light"
     },
     "output_type": "display_data"
    }
   ],
   "source": [
    "dice_set = ((6,6),(8,8), (2,2), (6,6), (2,8), (6,2), (4,6))\n",
    "maximum = 16\n",
    "S = np.arange(2, maximum + 1)\n",
    "\n",
    "df = pd.DataFrame({\"S\" : S})\n",
    "for dice in dice_set:\n",
    "    y = [mult_die_prob(s, dice) for s in S]\n",
    "    df[dice] = y\n",
    "\n",
    "df = pd.melt(df, \"S\")\n",
    "g = sns.FacetGrid(df, col=\"variable\", col_wrap=3)\n",
    "g.map(sns.barplot, \"S\", \"value\");\n"
   ]
  },
  {
   "cell_type": "markdown",
   "metadata": {},
   "source": [
    "These distributions are a bit unpredictable. This is especially true if the two dice don't match or if one of the dice is very low. I was particularly fascinated by the distribution of two 2 sided dice. It looks like it can only roll even numbers. I then realized that this had to be true. No matter what, the last roll on both dice must be 1. All previous roll would have been even, so the sum must be even."
   ]
  },
  {
   "cell_type": "code",
   "execution_count": null,
   "metadata": {},
   "outputs": [],
   "source": []
  }
 ],
 "metadata": {
  "kernelspec": {
   "display_name": "Python 3",
   "language": "python",
   "name": "python3"
  },
  "language_info": {
   "codemirror_mode": {
    "name": "ipython",
    "version": 3
   },
   "file_extension": ".py",
   "mimetype": "text/x-python",
   "name": "python",
   "nbconvert_exporter": "python",
   "pygments_lexer": "ipython3",
   "version": "3.8.3"
  }
 },
 "nbformat": 4,
 "nbformat_minor": 4
}
